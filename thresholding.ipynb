{
 "cells": [
  {
   "cell_type": "code",
   "execution_count": 1,
   "metadata": {},
   "outputs": [],
   "source": [
    "import networkx as nx\n",
    "import functools\n",
    "import numpy as np\n",
    "import pandas as pd\n",
    "from scipy.sparse import csr_array, triu, save_npz, load_npz\n",
    "import graph_tool.all as gt\n",
    "from graph_tool.all import *\n",
    "import datetime\n",
    "import Graph_Sampling"
   ]
  },
  {
   "cell_type": "code",
   "execution_count": 2,
   "metadata": {},
   "outputs": [],
   "source": [
    "upper = load_npz('user_user_matrix.npz')"
   ]
  },
  {
   "cell_type": "code",
   "execution_count": 8,
   "metadata": {},
   "outputs": [],
   "source": [
    "# filtered_rows, filtered_cols = upper.nonzero()"
   ]
  },
  {
   "cell_type": "code",
   "execution_count": 5,
   "metadata": {},
   "outputs": [],
   "source": [
    "def calc_modularity(threshold, user_user_matrix):\n",
    "\n",
    "    mask = user_user_matrix.data >= threshold\n",
    "    filtered_rows, filtered_cols = user_user_matrix.nonzero()\n",
    "    filtered_rows_m = filtered_rows[mask]\n",
    "    filtered_cols_m = filtered_cols[mask]\n",
    "    filtered_data = user_user_matrix.data[mask]\n",
    "\n",
    "    percentage = filtered_data.size / \\\n",
    "        ((user_user_matrix.shape[0] * user_user_matrix.shape[1]) / 2)\n",
    "    # print(percentage)\n",
    "    print(filtered_data.size)\n",
    "\n",
    "    print(f'making graph with threshold {threshold}')\n",
    "    print(\"time:-\", datetime.datetime.now())\n",
    "    # Create a graph from the filtered data\n",
    "    G = Graph()\n",
    "    # edge_data = []\n",
    "\n",
    "    # Iterate over the filtered data and add edges\n",
    "    for i, j, w in zip(filtered_rows_m, filtered_cols_m, filtered_data):\n",
    "        if i != j:  # Exclude self-loops\n",
    "            G.add_edge(i, j, w)\n",
    "            # edge_data.append((i, j, w))\n",
    "\n",
    "    print(\"starting communtiy detection (nested model)\")\n",
    "    print(\"time:-\", datetime.datetime.now())\n",
    "\n",
    "    state = minimize_nested_blockmodel_dl(G)\n",
    "\n",
    "    # print(\"starting newman modularity detection (nested model)\")\n",
    "    # print(\"time:-\", datetime.datetime.now())\n",
    "    # mod_state = minimize_blockmodel_dl(G, state=gt.ModularityState)\n",
    "\n",
    "    print(\"entropy\")\n",
    "    print(\"time:-\", datetime.datetime.now())\n",
    "    entropy = state.entropy()\n",
    "\n",
    "    # print(\"modularity\")\n",
    "    # print(\"time:-\", datetime.datetime.now())\n",
    "    # modularity_score = mod_state.modularity()\n",
    "\n",
    "    # # df_edges = pd.DataFrame(edge_data, columns=['Source', 'Target', 'Weight'])\n",
    "\n",
    "    # print('now community detection')\n",
    "\n",
    "    # # compute the best partition\n",
    "    # communities_generator = nx.community.louvain_communities(G)\n",
    "    # partition = {node: i for i, comm in enumerate(\n",
    "    #     communities_generator) for node in comm}\n",
    "    # communities_list = [comm for comm in communities_generator]\n",
    "\n",
    "    # # return communities_list\n",
    "\n",
    "    # modularity_score = nx.community.modularity(G, communities_list)\n",
    "    # coverage, performance = nx.community.partition_quality(G, communities_list)\n",
    "    # # size = sum(1 for community in communities_list if len(community) < 50)\n",
    "    # # small_percentage = size / len(communities_list)\n",
    "\n",
    "    # print(\"modularity:\", modularity_score)\n",
    "    # print(\"coverage:\", coverage)\n",
    "    # print(\"performance:\", performance)\n",
    "    print(\"entropy\", entropy)\n",
    "    print(\"percentage\", percentage)\n",
    "\n",
    "    # community_sizes = [len(community)/51281 for community in communities_list]\n",
    "    # print(community_sizes)\n",
    "    # print('total:', sum(community_sizes)/51281)\n",
    "    # print('size percentage:', small_percentage)\n",
    "\n",
    "    return entropy, percentage"
   ]
  },
  {
   "cell_type": "code",
   "execution_count": 7,
   "metadata": {},
   "outputs": [
    {
     "data": {
      "text/plain": [
       "0.1080731856"
      ]
     },
     "execution_count": 7,
     "metadata": {},
     "output_type": "execute_result"
    }
   ],
   "source": [
    "upper.data[upper.data >= 10].size / ((upper.shape[0] * upper.shape[1]) / 2)"
   ]
  },
  {
   "cell_type": "code",
   "execution_count": 7,
   "metadata": {},
   "outputs": [
    {
     "name": "stdout",
     "output_type": "stream",
     "text": [
      "281040705\n",
      "making graph with threshold 10\n",
      "time:- 2024-01-23 00:44:15.472817\n"
     ]
    },
    {
     "ename": "",
     "evalue": "",
     "output_type": "error",
     "traceback": [
      "\u001b[1;31mThe Kernel crashed while executing code in the the current cell or a previous cell. Please review the code in the cell(s) to identify a possible cause of the failure. Click <a href='https://aka.ms/vscodeJupyterKernelCrash'>here</a> for more info. View Jupyter <a href='command:jupyter.viewOutput'>log</a> for further details."
     ]
    }
   ],
   "source": [
    "# took 12 min for threshold=15\n",
    "# took 16 min for threshold=10\n",
    "entropy, percentage = calc_modularity(\n",
    "    threshold=10, user_user_matrix=upper)"
   ]
  }
 ],
 "metadata": {
  "kernelspec": {
   "display_name": "csci1470",
   "language": "python",
   "name": "python3"
  },
  "language_info": {
   "codemirror_mode": {
    "name": "ipython",
    "version": 3
   },
   "file_extension": ".py",
   "mimetype": "text/x-python",
   "name": "python",
   "nbconvert_exporter": "python",
   "pygments_lexer": "ipython3",
   "version": "3.10.8"
  }
 },
 "nbformat": 4,
 "nbformat_minor": 2
}
